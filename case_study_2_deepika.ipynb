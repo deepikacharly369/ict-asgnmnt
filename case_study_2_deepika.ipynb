{
 "cells": [
  {
   "cell_type": "code",
   "execution_count": 1,
   "metadata": {},
   "outputs": [
    {
     "name": "stdout",
     "output_type": "stream",
     "text": [
      "[2, 9, 12, 8, 7, 5, 3]\n",
      "sum= 46\n"
     ]
    }
   ],
   "source": [
    "#1.a python function to sum all the numbers in a list\n",
    "n=int(input(\"Enter the number of elements in the list\"))\n",
    "l=[]\n",
    "for i in range(n):\n",
    "    x=int(input(\"Enter the elements one by one\"))\n",
    "    l.append(x)\n",
    "print(l)\n",
    "def sum_(x):\n",
    "    s=0\n",
    "    for i in x:\n",
    "       s=s+i\n",
    "    print(\"sum=\",s)\n",
    "sum_(l)"
   ]
  },
  {
   "cell_type": "code",
   "execution_count": 2,
   "metadata": {},
   "outputs": [
    {
     "name": "stdout",
     "output_type": "stream",
     "text": [
      "malayalam  is palindrome\n",
      "deepika is not palindrome\n"
     ]
    }
   ],
   "source": [
    "#2. python function to check whether a passed string is palindrome or not\n",
    "def is_palindrome(x):\n",
    "    x=x.lower()\n",
    "    rev_x=x[::-1]\n",
    "    if x==rev_x:\n",
    "        print(x,\" is palindrome\")\n",
    "    else:\n",
    "        print(x,\"is not palindrome\")\n",
    "is_palindrome(\"Malayalam\")\n",
    "is_palindrome(\"Deepika\")"
   ]
  },
  {
   "cell_type": "code",
   "execution_count": 3,
   "metadata": {},
   "outputs": [
    {
     "name": "stdout",
     "output_type": "stream",
     "text": [
      "n= 10\n",
      "0,1,1,2,3,5,8,13,21,34,"
     ]
    }
   ],
   "source": [
    "#3. Python recursive function to print fibonacci series\n",
    "def fib_(x):\n",
    "    if x==1:\n",
    "        return 0\n",
    "    elif x==2:\n",
    "        return 1\n",
    "    else:\n",
    "        return fib_(x-1)+fib_(x-2)\n",
    "\n",
    "n=int(input(\"enter number of terms\"))\n",
    "print(\"n=\",n)\n",
    "if n<=0:\n",
    "    print(\"Enter a valid number\")\n",
    "else:\n",
    "    for i in range(1,n+1):\n",
    "       print(fib_(i),end=\",\")"
   ]
  },
  {
   "cell_type": "code",
   "execution_count": 4,
   "metadata": {},
   "outputs": [
    {
     "name": "stdout",
     "output_type": "stream",
     "text": [
      "n= 5\n",
      "Multiplication table of  5  is,\n",
      "5 x 1 = 5\n",
      "5 x 2 = 10\n",
      "5 x 3 = 15\n",
      "5 x 4 = 20\n",
      "5 x 5 = 25\n",
      "5 x 6 = 30\n",
      "5 x 7 = 35\n",
      "5 x 8 = 40\n",
      "5 x 9 = 45\n",
      "5 x 10 = 50\n"
     ]
    }
   ],
   "source": [
    "#4. Python recursive function to print the multiplication table of given number\n",
    "n=int(input(\"Enter a number\"))\n",
    "print(\"n=\",n)\n",
    "print(\"Multiplication table of \",n,\" is,\")\n",
    "def mul_(n,i):\n",
    "    if i>10:\n",
    "        return \n",
    "    print(n,\"x\",i,\"=\",n*i)\n",
    "    return mul_(n,i+1) \n",
    "mul_(n,1)"
   ]
  },
  {
   "cell_type": "code",
   "execution_count": 9,
   "metadata": {},
   "outputs": [
    {
     "name": "stdout",
     "output_type": "stream",
     "text": [
      "Messi\n",
      "Count of Vowels    = 2\n",
      "Count of Consonants= 3\n",
      "Dhoni\n",
      "Count of Vowels    = 2\n",
      "Count of Consonants= 3\n"
     ]
    }
   ],
   "source": [
    "#5.function which counts vowels and consonant in a word\n",
    "def count_vow_nd_cons(x):\n",
    "    print(x)\n",
    "    x=x.lower()\n",
    "    cov=0\n",
    "    coc=0\n",
    "    for z in x:\n",
    "        if z==\"a\" or z==\"e\" or z==\"i\" or z==\"o\" or z==\"u\":\n",
    "            cov=cov+1\n",
    "        else:\n",
    "            coc=coc+1\n",
    "    print(\"Count of Vowels    =\",cov)\n",
    "    print(\"Count of Consonants=\",coc)\n",
    "count_vow_nd_cons(\"Messi\")\n",
    "count_vow_nd_cons(\"Dhoni\")"
   ]
  },
  {
   "cell_type": "code",
   "execution_count": 8,
   "metadata": {},
   "outputs": [
    {
     "name": "stdout",
     "output_type": "stream",
     "text": [
      "lionel messi\n"
     ]
    },
    {
     "data": {
      "text/plain": [
       "'LIONEL MESSI'"
      ]
     },
     "execution_count": 8,
     "metadata": {},
     "output_type": "execute_result"
    }
   ],
   "source": [
    "#6.function that accepts lowercase words and returns uppercase words.\n",
    "def upper(x):\n",
    "    x=input(\"Enter a string\")\n",
    "    print(x)\n",
    "    x=x.upper()\n",
    "    return x\n",
    "upper(x)"
   ]
  },
  {
   "cell_type": "code",
   "execution_count": 10,
   "metadata": {},
   "outputs": [
    {
     "name": "stdout",
     "output_type": "stream",
     "text": [
      "l= [12, 0, None, 23, None, -55, 234, 89, None, 0, 6, -12]\n",
      "new list= [12, 0, 23, -55, 234, 89, 0, 6, -12]\n"
     ]
    }
   ],
   "source": [
    "#7.program to remove ‘None’ values from a given list using the lambda function.\n",
    "l=[12, 0, None, 23, None, -55, 234, 89, None, 0, 6, -12]\n",
    "print(\"l=\",l)\n",
    "new_list=list(filter(lambda x:x!=None,l))\n",
    "print(\"new list=\",new_list)"
   ]
  },
  {
   "cell_type": "code",
   "execution_count": 5,
   "metadata": {},
   "outputs": [
    {
     "name": "stdout",
     "output_type": "stream",
     "text": [
      "length= 10\n",
      "width= 5\n",
      "perimeter= 30\n",
      "area= 50\n",
      "volume of the parellelepiped= 750\n"
     ]
    }
   ],
   "source": [
    "# 8.\n",
    "class Rectangle:\n",
    "\n",
    "    def __init__(self,l,b):\n",
    "        self.l=l\n",
    "        self.b=b\n",
    "\n",
    "    def perimeter(self):\n",
    "        return 2*(self.l+self.b)\n",
    "\n",
    "    def area(self):\n",
    "        return self.l*self.b\n",
    "        \n",
    "    def display(self):\n",
    "        print(\"length=\",self.l)\n",
    "        print(\"width=\",self.b)\n",
    "        print(\"perimeter=\",self.perimeter())\n",
    "        print(\"area=\",self.area())\n",
    "\n",
    "\n",
    "class Parellelepiped(Rectangle):\n",
    "\n",
    "    def __init__(self,l,b,h):\n",
    "        super().__init__(l,b)\n",
    "        self.h=h\n",
    "\n",
    "    def volume(self):\n",
    "        return self.l*self.b*self.h\n",
    "\n",
    "    def display(self):\n",
    "        print(\"volume of the parellelepiped=\",self.volume())\n",
    "\n",
    "        \n",
    "r1=Rectangle(10,5)\n",
    "r1.display()\n",
    "p1=Parellelepiped(10,5,15)\n",
    "p1.display()   "
   ]
  },
  {
   "cell_type": "code",
   "execution_count": 12,
   "metadata": {},
   "outputs": [
    {
     "name": "stdout",
     "output_type": "stream",
     "text": [
      "Account Number: 9876543210\n",
      "Account Holder Name: Deepika Charly\n",
      "Balance amount: 118750.0\n"
     ]
    }
   ],
   "source": [
    "# 9.\n",
    "class BankAccount:\n",
    "\n",
    "    def __init__(self,accountNumber,name,balance):\n",
    "        self.an=accountNumber\n",
    "        self.n=name\n",
    "        self.b=balance\n",
    "\n",
    "    def Deposit(self,deposit):\n",
    "        self.d=deposit\n",
    "        self.b=self.b+self.d\n",
    "        return self.b\n",
    "\n",
    "    def Withdrawal(self,withdraw):\n",
    "        self.w=withdraw\n",
    "        if self.b<self.w:\n",
    "            print(\"oops..!!insufficient balance..\")\n",
    "        else:\n",
    "            self.b=self.b-self.w\n",
    "            return self.b\n",
    "\n",
    "    def bankFees(self):\n",
    "        bankfee=(5/100)*self.b\n",
    "        self.b=self.b-bankfee\n",
    "        return self.b\n",
    "\n",
    "    def display(self):\n",
    "        print(\"Account Number:\",self.an)\n",
    "        print(\"Account Holder Name:\",self.n)\n",
    "        print(\"Balance amount:\",self.b)\n",
    "        \n",
    "\n",
    "account_holder=BankAccount(9876543210,\"Deepika Charly\",100000)\n",
    "account_holder.Deposit(50000)\n",
    "account_holder.Withdrawal(25000)\n",
    "account_holder.bankFees()\n",
    "account_holder.display()       "
   ]
  },
  {
   "cell_type": "code",
   "execution_count": 1,
   "metadata": {},
   "outputs": [
    {
     "name": "stdout",
     "output_type": "stream",
     "text": [
      "length= 10\n",
      "width= 5\n",
      "perimeter= 30\n",
      "area= 50\n",
      "volume of the parellelepiped= 750\n"
     ]
    }
   ],
   "source": [
    "# 10.\n",
    "from rectangle import Rectangle\n",
    "\n",
    "class Parellelepiped(Rectangle):\n",
    "\n",
    "\n",
    "    def __init__(self,l,b,h):\n",
    "        Rectangle.__init__(self,l,b)\n",
    "        self.h=h\n",
    "\n",
    "    def volume(self):\n",
    "        return self.l*self.b*self.h\n",
    "\n",
    "    def display(self):\n",
    "        print(\"volume of the parellelepiped=\",self.volume())\n",
    "\n",
    "        \n",
    "r1=Rectangle(10,5)\n",
    "r1.display()\n",
    "p1=Parellelepiped(10,5,15)\n",
    "p1.display()"
   ]
  }
 ],
 "metadata": {
  "kernelspec": {
   "display_name": "Python 3",
   "language": "python",
   "name": "python3"
  },
  "language_info": {
   "codemirror_mode": {
    "name": "ipython",
    "version": 3
   },
   "file_extension": ".py",
   "mimetype": "text/x-python",
   "name": "python",
   "nbconvert_exporter": "python",
   "pygments_lexer": "ipython3",
   "version": "3.9.0"
  },
  "orig_nbformat": 4,
  "vscode": {
   "interpreter": {
    "hash": "c446eef832ec964573dc49f36fd16bdbed40cbfbefbf557bc2dc78d9e7968689"
   }
  }
 },
 "nbformat": 4,
 "nbformat_minor": 2
}
