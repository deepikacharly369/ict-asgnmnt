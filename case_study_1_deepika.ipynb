{
 "cells": [
  {
   "cell_type": "code",
   "execution_count": 2,
   "metadata": {},
   "outputs": [
    {
     "name": "stdout",
     "output_type": "stream",
     "text": [
      "number of students= 5\n",
      "name: Deepika\n",
      "Entered mark of Deepika = 80.5\n",
      "Grade A\n",
      "name: Romal\n",
      "Entered mark of Romal = 99.0\n",
      "Grade A\n",
      "name: Aswathi\n",
      "Entered mark of Aswathi = 23.5\n",
      "Grade F\n",
      "name: Anna\n",
      "Entered mark of Anna = 50.0\n",
      "Grade C\n",
      "name: Pranav\n",
      "Entered mark of Pranav = 98.0\n",
      "Grade A\n"
     ]
    }
   ],
   "source": [
    "#1. Ask user to enter marks and print the corresponding grade.\n",
    "n=int(input(\"number of students\"))\n",
    "print(\"number of students=\",n)\n",
    "for i in range(1,n+1):\n",
    "    name_=input(\"Enter your name\")\n",
    "    print(\"name:\",name_)\n",
    "    m=float(input(\"Enter the marks\"))\n",
    "    print(\"Entered mark of\",name_,\"=\",m)\n",
    "    if m>=0 and m<25:\n",
    "        print(\"Grade F\")\n",
    "    elif m>=25 and m<45:\n",
    "        print(\"Grade E\")\n",
    "    elif m>=45 and m<50:\n",
    "        print(\"Grade D\")\n",
    "    elif m>=50 and m<60:\n",
    "        print(\"Grade C\")\n",
    "    elif m>=60 and m<80:\n",
    "        print(\"Grade B\")\n",
    "    elif m>=80 and m<=100:\n",
    "        print(\"Grade A\")\n",
    "    else:\n",
    "        print(\"Invalid marks\")\n"
   ]
  },
  {
   "cell_type": "code",
   "execution_count": 3,
   "metadata": {},
   "outputs": [
    {
     "name": "stdout",
     "output_type": "stream",
     "text": [
      "['deepika', 'romal', 'pranav', 'krishna', 'anna', 'aswathi', 'charly']\n",
      "new list= ['romal', 'krishna', 'charly']\n"
     ]
    }
   ],
   "source": [
    "#2. Creating a new list which contains only the names with non-repeating characters.\n",
    "n=int(input(\"number of elements in the list\"))\n",
    "l=[]\n",
    "for i in range(1,n+1):\n",
    "    x=input(\"enter the names one by one\")\n",
    "    x=x.lower()\n",
    "    l.append(x)\n",
    "print(l)\n",
    "new_list=[]\n",
    "for j in l:\n",
    "    if len(set(j))==len(j):\n",
    "        new_list.append(j)\n",
    "print(\"new list=\",new_list)\n"
   ]
  },
  {
   "cell_type": "code",
   "execution_count": 25,
   "metadata": {},
   "outputs": [
    {
     "name": "stdout",
     "output_type": "stream",
     "text": [
      "length= 10.0\n",
      "breadth= 8.0\n",
      "it is a rectangle\n"
     ]
    }
   ],
   "source": [
    "#3. Taking values of length and breadth of a rectangle from user and check if it is square or not.\n",
    "l=float(input(\"Enter the length\"))\n",
    "print(\"length=\",l)\n",
    "b=float(input(\"enter the breadth\"))\n",
    "print(\"breadth=\",b)\n",
    "if l==b:\n",
    "    print(\"it is a square\")\n",
    "else:\n",
    "    print(\"it is a rectangle\")"
   ]
  },
  {
   "cell_type": "code",
   "execution_count": 29,
   "metadata": {},
   "outputs": [
    {
     "name": "stdout",
     "output_type": "stream",
     "text": [
      "Name: Deepika\n",
      "Number of classes held= 100\n",
      "Number of classes attended= 80\n",
      "Percentage of attendence of Deepika = 80.0 %\n",
      "Deepika ,You are allowed to attend the exam\n"
     ]
    }
   ],
   "source": [
    "#4. whether a student is able to attend the exam or not based on the attendence of the student\n",
    "name=input(\"Enter your name\")\n",
    "print(\"Name:\",name)\n",
    "nch=int(input(\"Enter number of classes held\"))\n",
    "print(\"Number of classes held=\",nch)\n",
    "nca=int(input(\"Enter the number of classes attended\"))\n",
    "print(\"Number of classes attended=\",nca)\n",
    "poa=(nca/nch)*100\n",
    "print(\"Percentage of attendence of\",name,\"=\",poa,\"%\")\n",
    "if poa<75:\n",
    "    print(name,\",You are not allowed to sit in the exam\")\n",
    "else:\n",
    "    print(name,\",You are allowed to attend the exam\")"
   ]
  },
  {
   "cell_type": "code",
   "execution_count": 3,
   "metadata": {},
   "outputs": [
    {
     "name": "stdout",
     "output_type": "stream",
     "text": [
      "Length of list= 7\n",
      "list= [4, 9, 0, 12, 77, 4, 7]\n",
      "sum= 113\n",
      "odd= [9, 77, 7]\n",
      "even= [4, 0, 12, 4]\n"
     ]
    }
   ],
   "source": [
    "#5. length of list, elements of list, sum of list and separating the elements of the list to new lists;even and odd.\n",
    "n=int(input(\"Enter the number of elements in the list\"))\n",
    "print(\"Length of list=\",n)\n",
    "l=[]\n",
    "for i in range(1,n+1):\n",
    "    x=int(input(\"Enter the elements one by one\"))\n",
    "    l.append(x)\n",
    "print(\"list=\",l)\n",
    "s=sum(l)\n",
    "print(\"sum=\",s)\n",
    "o=[]\n",
    "e=[]\n",
    "for i in l:\n",
    "    if i%2==0:\n",
    "        e.append(i)\n",
    "    else:\n",
    "        o.append(i)\n",
    "print(\"odd=\",o)\n",
    "print(\"even=\",e)\n"
   ]
  },
  {
   "cell_type": "code",
   "execution_count": 10,
   "metadata": {},
   "outputs": [
    {
     "name": "stdout",
     "output_type": "stream",
     "text": [
      "Welcome to footstyles\n",
      "I am a bot created to help you.\n",
      "Please enter your query \n",
      "you: I would like to know some details about your products\n",
      "bot: What product is you looking for?\n",
      "you: I need a pair of shoes\n",
      "bot: What kind of shoes are you looking for, sneakers or formal shoes\n",
      "you: Sneakers\n",
      "bot: Great! What size do you wear and what's your preferred color?\n",
      "you: I wear size 10 and i prefer white\n",
      "bot: Thanks! We have several options in that size, would you like me to show you some options?\n",
      "you: Yes , please\n",
      "bot: Here are a few of our most popular branded footwears of your preferred size\n",
      " 1. Adidas Originals NMD_R1\n",
      " 2. Nike Air Max 270\n",
      " 3. Converse Chuck Taylor All Star \n",
      "you: I would go for Adidas\n",
      "bot: Of course! \n",
      "     Let me just pull up the pictures for you\n",
      "you: How much do they cost\n",
      "bot: All products are under 150 dollars\n",
      "you: How can I purchase them ?\n",
      "bot: To make a purchase, simply click on the 'buy' button and follow the steps to complete your order.\n",
      "     You can also continue shopping or check out your cart by clicking on the 'Cart' button.\n",
      "Let me know if there's anything else I can assist you with.\n",
      "you: Is there any shipping charge?\n",
      "bot: No, no shipping price is charged\n",
      "you: How long it will take for delivery ?\n",
      "bot: You will get your product within 3 days\n",
      "you: Thank you\n",
      "bot: You're welcome! Have a great day and happy shopping\n",
      "you: quit\n",
      "You are exited with a code 0\n"
     ]
    }
   ],
   "source": [
    "#6. sample chatbot for an ecommercial website\n",
    "print(\"Welcome to footstyles\\nI am a bot created to help you.\\nPlease enter your query \")\n",
    "while True:\n",
    "    x=input(\"Enter quit to stop\")\n",
    "    print(\"you:\",x)\n",
    "    x=x.lower()\n",
    "    if x==\"quit\":\n",
    "        print(\"You are exited with a code 0\")\n",
    "        break\n",
    "    y=x.split()\n",
    "    if len(y)==0:\n",
    "        print(\"bot: Please enter a valid query\")\n",
    "    elif \"hi\" in y:\n",
    "        print(\"bot: hey!\")\n",
    "    elif \"morning\" in y:\n",
    "        print(\"bot: Good morning,how can I help you?\")\n",
    "    elif \"evening\" in y:\n",
    "        print(\"bot: Good evening,how can I help you?\")\n",
    "    elif \"noon\" in y:\n",
    "        print(\"bot: Good afternoon,how can I help you?\")\n",
    "    elif \"products\" in y:\n",
    "        print(\"bot: What product is you looking for?\")\n",
    "    elif \"bag\" in y:\n",
    "        print(\"bot: Oops! Bags are out of stock currently. Anything else?\")\n",
    "    elif \"shoes\" in y:\n",
    "        print(\"bot: What kind of shoes are you looking for, sneakers or formal shoes\")\n",
    "    elif \"sneakers\" in y:\n",
    "        print(\"bot: Great! What size do you wear and what's your preferred color?\")\n",
    "    elif \"formal\" in y:\n",
    "        print(\"bot: Great! What size do you wear and what's your preferred color?\")\n",
    "    elif \"size\" in y:\n",
    "        print(\"bot: Thanks! We have several options in that size, would you like me to show you some options?\")\n",
    "    elif \"color\" in y:\n",
    "        print(\"bot: Thanks! We have several options in that color, would you like me to show you some options?\")\n",
    "    elif \"yes\" in y:\n",
    "        print(\"bot: Here are a few of our most popular branded footwears of your preferred size\\n 1. Adidas Originals NMD_R1\\n 2. Nike Air Max 270\\n 3. Converse Chuck Taylor All Star \")\n",
    "    elif \"adidas\" in y:\n",
    "        print(\"bot: Of course! \\n     Let me just pull up the pictures for you\")\n",
    "    elif \"nike\" in y:\n",
    "        print(\"bot: Of course! \\n     Let me just pull up the pictures for you\")\n",
    "    elif \"taylor\" in y:\n",
    "        print(\"bot: Of course! \\n     Let me just pull up the pictures for you\")\n",
    "    elif \"cost\" in y:\n",
    "        print(\"bot: All products are under 150 dollars\")\n",
    "    elif \"how much\" in y:\n",
    "        print(\"bot: All products are under 150 dollars\")\n",
    "    elif \"price\" in y:\n",
    "        print(\"bot: All products are under 150 dollars\")\n",
    "    elif \"purchase\" in y:\n",
    "        print(\"bot: To make a purchase, simply click on the 'buy' button and follow the steps to complete your order.\\n     You can also continue shopping or check out your cart by clicking on the 'Cart' button.\\nLet me know if there's anything else I can assist you with.\")\n",
    "    elif \"buy\" in y:\n",
    "        print(\"bot: To make a purchase, simply click on the 'buy' button and follow the steps to complete your order.\\n     You can also continue shopping or check out your cart by clicking on the 'Cart' button.\\nLet me know if there's anything else I can assist you with.\")\n",
    "    elif \"long\" in y:\n",
    "        print(\"bot: You will get your product within 3 days\")\n",
    "    elif \"shipping\" in y:\n",
    "        print(\"bot: No, no shipping price is charged\")\n",
    "    elif \"thank\" in y:\n",
    "        print(\"bot: You're welcome! Have a great day and happy shopping\")    \n",
    "    else:\n",
    "        print(\"bot: Please use another option\")"
   ]
  },
  {
   "cell_type": "code",
   "execution_count": 7,
   "metadata": {},
   "outputs": [
    {
     "name": "stdout",
     "output_type": "stream",
     "text": [
      "General form of a Quadratic equation is, ax^2+bx+c=0 where a!=0\n",
      "a= 1\n",
      "b= -4\n",
      "c= 5\n",
      "The user entered quadratic equation is, 1 x^2+ -4 x+ 5\n",
      "There are 2 distinct imaginary roots and they are (2+1j) and (2-1j)\n"
     ]
    }
   ],
   "source": [
    "#7. solution of quadratic equation\n",
    "import cmath\n",
    "print(\"General form of a Quadratic equation is, ax^2+bx+c=0 where a!=0\")\n",
    "a=int(input(\"Enter a\"))\n",
    "print(\"a=\",a)\n",
    "b=int(input(\"Enter b\"))\n",
    "print(\"b=\",b)\n",
    "c=int(input(\"Enter c\"))\n",
    "print(\"c=\",c)\n",
    "print(\"The user entered quadratic equation is,\",a,\"x^2+\",b,\"x+\",c)\n",
    "d=(b**2)-(4*a*c) #d is the discriminant\n",
    "sol1=(-b+cmath.sqrt(d))/(2*a)\n",
    "sol2=(-b-cmath.sqrt(d))/(2*a)\n",
    "if d>0:\n",
    "    print(\"There are 2 distinct real roots and they are\",sol1,\"and\",sol2)\n",
    "if d==0:\n",
    "    print(\"There are 2 real equal roots(double roots) and they are,\",sol1,\"and\",sol2)\n",
    "if d<0:\n",
    "    print(\"There are 2 distinct imaginary roots and they are\",sol1,\"and\",sol2)"
   ]
  },
  {
   "cell_type": "code",
   "execution_count": 1,
   "metadata": {},
   "outputs": [
    {
     "name": "stdout",
     "output_type": "stream",
     "text": [
      "Current Number= 1 Previous Number= 0  Sum=  1\n",
      "Current Number= 2 Previous Number= 1  Sum=  3\n",
      "Current Number= 3 Previous Number= 2  Sum=  5\n",
      "Current Number= 4 Previous Number= 3  Sum=  7\n",
      "Current Number= 5 Previous Number= 4  Sum=  9\n",
      "Current Number= 6 Previous Number= 5  Sum=  11\n",
      "Current Number= 7 Previous Number= 6  Sum=  13\n",
      "Current Number= 8 Previous Number= 7  Sum=  15\n",
      "Current Number= 9 Previous Number= 8  Sum=  17\n",
      "Current Number= 10 Previous Number= 9  Sum=  19\n"
     ]
    }
   ],
   "source": [
    "#8. Printing current and previous number and their sum from 1 to 10\n",
    "previous_= 0\n",
    "for i in range(1, 11):\n",
    "    current_=i\n",
    "    s= previous_ +current_\n",
    "    print(\"Current Number=\",current_,\"Previous Number=\", previous_,\" Sum= \",s)\n",
    "    previous_= i"
   ]
  },
  {
   "cell_type": "code",
   "execution_count": 2,
   "metadata": {},
   "outputs": [
    {
     "name": "stdout",
     "output_type": "stream",
     "text": [
      "lower range= -32\n",
      "upper range= 50\n",
      "2,3,5,7,11,13,17,19,23,29,31,37,41,43,47,"
     ]
    }
   ],
   "source": [
    "#9. prime numbers in a given range\n",
    "m=int(input(\"Enter the lower range\"))\n",
    "print(\"lower range=\",m)\n",
    "n=int(input(\"Enter the upper range\"))\n",
    "print(\"upper range=\",n)\n",
    "for x in range(m,n+1):\n",
    "    if x>1:\n",
    "        for i in range(2,x):\n",
    "            if x%i==0:\n",
    "               break\n",
    "        else:\n",
    "            print(x,end=\",\")\n",
    "if n<=1:\n",
    "    print(\"There are no prime numbers between\",m,\"and\",n)"
   ]
  },
  {
   "cell_type": "code",
   "execution_count": 9,
   "metadata": {},
   "outputs": [
    {
     "name": "stdout",
     "output_type": "stream",
     "text": [
      "n= 13\n",
      "fibonacci series upto 13 terms is,\n",
      "0,1,1,2,3,5,8,13,21,34,55,89,144,"
     ]
    }
   ],
   "source": [
    "#10. printing fibonacci series upto n\n",
    "n=int(input(\"Enter the limit\"))\n",
    "print(\"n=\",n)\n",
    "print(\"fibonacci series upto\",n,\"terms is,\")\n",
    "a=0\n",
    "b=1\n",
    "for i in range(1,n+1):\n",
    "    print(a,end=\",\")\n",
    "    r=a+b\n",
    "    a=b\n",
    "    b=r\n"
   ]
  },
  {
   "cell_type": "code",
   "execution_count": 12,
   "metadata": {},
   "outputs": [
    {
     "name": "stdout",
     "output_type": "stream",
     "text": [
      "lower range= 230\n",
      "upper range= 5700\n",
      "fibonacci numbers between 230 and 5700 are, [233, 377, 610, 987, 1597, 2584, 4181]\n"
     ]
    }
   ],
   "source": [
    "#10. printing fibonacci numbers in a given range\n",
    "m=int(input(\"Enter the lower range\"))\n",
    "print(\"lower range=\",m)\n",
    "n=int(input(\"Enter the upper range\"))\n",
    "print(\"upper range=\",n)\n",
    "l=[]\n",
    "a=0\n",
    "b=1\n",
    "for i in range(1,10000):\n",
    "    l.append(a)\n",
    "    r=a+b\n",
    "    a=b\n",
    "    b=r\n",
    "u=[]\n",
    "for x in l:\n",
    "    if x>=m and x<=n:\n",
    "        u.append(x)\n",
    "print(\"fibonacci numbers between\",m,\"and\",n,\"are,\",u)"
   ]
  },
  {
   "cell_type": "code",
   "execution_count": null,
   "metadata": {},
   "outputs": [],
   "source": []
  }
 ],
 "metadata": {
  "kernelspec": {
   "display_name": "Python 3",
   "language": "python",
   "name": "python3"
  },
  "language_info": {
   "codemirror_mode": {
    "name": "ipython",
    "version": 3
   },
   "file_extension": ".py",
   "mimetype": "text/x-python",
   "name": "python",
   "nbconvert_exporter": "python",
   "pygments_lexer": "ipython3",
   "version": "3.9.0"
  },
  "orig_nbformat": 4,
  "vscode": {
   "interpreter": {
    "hash": "c446eef832ec964573dc49f36fd16bdbed40cbfbefbf557bc2dc78d9e7968689"
   }
  }
 },
 "nbformat": 4,
 "nbformat_minor": 2
}
