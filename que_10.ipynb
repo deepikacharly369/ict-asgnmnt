{
 "cells": [
  {
   "cell_type": "code",
   "execution_count": 3,
   "metadata": {},
   "outputs": [
    {
     "name": "stdout",
     "output_type": "stream",
     "text": [
      "length= 10\n",
      "width= 5\n",
      "perimeter= 30\n",
      "area= 50\n",
      "volume of the parellelepiped= 750\n"
     ]
    }
   ],
   "source": [
    "from rectangle import Rectangle\n",
    "\n",
    "class Parellelepiped(Rectangle):\n",
    "    def __init__(self,l,b,h):\n",
    "        Rectangle.__init__(self,l,b)\n",
    "        self.h=h\n",
    "    def volume(self):\n",
    "        return self.l*self.b*self.h\n",
    "    def display(self):\n",
    "        print(\"volume of the parellelepiped=\",self.volume())\n",
    "r1=Rectangle(10,5)\n",
    "r1.display()\n",
    "p1=Parellelepiped(10,5,15)\n",
    "p1.display()"
   ]
  },
  {
   "cell_type": "code",
   "execution_count": null,
   "metadata": {},
   "outputs": [],
   "source": []
  }
 ],
 "metadata": {
  "kernelspec": {
   "display_name": "Python 3",
   "language": "python",
   "name": "python3"
  },
  "language_info": {
   "codemirror_mode": {
    "name": "ipython",
    "version": 3
   },
   "file_extension": ".py",
   "mimetype": "text/x-python",
   "name": "python",
   "nbconvert_exporter": "python",
   "pygments_lexer": "ipython3",
   "version": "3.9.0"
  },
  "orig_nbformat": 4,
  "vscode": {
   "interpreter": {
    "hash": "c446eef832ec964573dc49f36fd16bdbed40cbfbefbf557bc2dc78d9e7968689"
   }
  }
 },
 "nbformat": 4,
 "nbformat_minor": 2
}
