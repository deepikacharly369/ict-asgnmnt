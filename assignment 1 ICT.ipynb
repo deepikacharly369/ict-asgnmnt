{
 "cells": [
  {
   "cell_type": "code",
   "execution_count": 1,
   "metadata": {},
   "outputs": [
    {
     "name": "stdout",
     "output_type": "stream",
     "text": [
      "Conversion of temperature in celsius to fahrenheit and viceversa\n",
      "temperature in fahrenheit= 100.0\n",
      "temperature in celsius= 37.77777777777778\n",
      "temperature in celsious= 38.0\n",
      "Temperature in farrenheit= 100.4\n"
     ]
    }
   ],
   "source": [
    "print(\"Conversion of temperature in celsius to fahrenheit and viceversa\")\n",
    "f=float(input(\"Enter the temperature in fahrenheit\"))\n",
    "print(\"Temperature in fahrenheit=\",f)\n",
    "print(\"Temperature in celsius=\", (f-32)*(5/9))\n",
    "c=float(input(\"Enter the temperature in celsious\"))\n",
    "print(\"Temperature in celsious=\",c)\n",
    "print(\"Temperature in fahrenheit=\", ((9*c)/5)+32)"
   ]
  },
  {
   "cell_type": "code",
   "execution_count": 2,
   "metadata": {},
   "outputs": [
    {
     "name": "stdout",
     "output_type": "stream",
     "text": [
      "Details of a student's name, roll number and mark\n",
      "Name: Deepika Charly\n",
      "Roll No: 7\n",
      "Mark: 100\n"
     ]
    }
   ],
   "source": [
    "print(\"Details of a student's name, roll number and mark\")\n",
    "name=input(\"Enter student's name\")\n",
    "print(\"Name:\", name)\n",
    "roll_no=int(input(\"Enter student's roll number\"))\n",
    "print(\"Roll No:\", roll_no)\n",
    "mark=int(input(\"Enter studen's mark\"))\n",
    "print(\"Mark:\", mark)"
   ]
  },
  {
   "cell_type": "code",
   "execution_count": 5,
   "metadata": {},
   "outputs": [
    {
     "name": "stdout",
     "output_type": "stream",
     "text": [
      "Finding the product of 2 numbers\n",
      "First number= 5490.0\n",
      "Second number= 234.5\n",
      "Product=First number*Second number= 1287405.0\n"
     ]
    }
   ],
   "source": [
    "print(\"Finding the product of 2 numbers\")\n",
    "x=float(input(\"Enter the first number\"))\n",
    "print(\"First number=\",x)\n",
    "y=float(input(\"Enter the second number\"))\n",
    "print(\"Second number=\",y)\n",
    "print(\"Product=First number*Second number=\", x*y)"
   ]
  },
  {
   "cell_type": "code",
   "execution_count": 1,
   "metadata": {},
   "outputs": [
    {
     "name": "stdout",
     "output_type": "stream",
     "text": [
      "['Learn', 'Python', 'by', 'Developing a Website']\n"
     ]
    }
   ],
   "source": [
    "txt=input(\"Enter text\")\n",
    "x=txt.split(\" \",3)\n",
    "print(x)\n",
    "#sorry, I don't know how to get the desired output"
   ]
  },
  {
   "cell_type": "code",
   "execution_count": 3,
   "metadata": {},
   "outputs": [
    {
     "name": "stdout",
     "output_type": "stream",
     "text": [
      " finding area of a circle\n",
      "radius= 7.0 cm\n",
      "area= 153.93804002589985 sqcm\n"
     ]
    }
   ],
   "source": [
    "import math\n",
    "print(\" finding area of a circle\")\n",
    "r=float(input(\"Enter the radius\"))\n",
    "print(\"radius=\",r, \"cm\")\n",
    "print(\"area=\",math.pi*r**2, \"sqcm\")"
   ]
  },
  {
   "cell_type": "code",
   "execution_count": 6,
   "metadata": {},
   "outputs": [
    {
     "name": "stdout",
     "output_type": "stream",
     "text": [
      "The number to be added in the list is, 45\n",
      "The position at which the number should be added in the list is, 4\n"
     ]
    },
    {
     "data": {
      "text/plain": [
       "['deepika', 7, 10, 'dhoni', '45', 'messi', 18]"
      ]
     },
     "execution_count": 6,
     "metadata": {},
     "output_type": "execute_result"
    }
   ],
   "source": [
    "list=[\"deepika\",7,10,\"dhoni\",\"messi\",18,]\n",
    "num=input(\"Enter the number to be inserted\")\n",
    "print(\"The number to be added in the list is,\",num)\n",
    "pos=int(input(\"the position at which the number should be inserted in the list\"))\n",
    "print(\"The position at which the number should be added in the list is,\",pos)\n",
    "list.insert(pos,num)\n",
    "list"
   ]
  },
  {
   "cell_type": "code",
   "execution_count": 20,
   "metadata": {},
   "outputs": [
    {
     "name": "stdout",
     "output_type": "stream",
     "text": [
      "{'name': 'John', 'age': 5, 'salary': 8000, 'city': 'New York'}\n",
      "{'name': 'John', 'age': 5, 'salary': 8000, 'location': 'New York'}\n"
     ]
    }
   ],
   "source": [
    "dict_={ \"name\": \"John\", \"age\":5, \"salary\": 8000, \"city\": \"New York\"}\n",
    "print(dict_)\n",
    "dict_[\"location\"]=dict_.pop(\"city\")\n",
    "print(dict_)"
   ]
  },
  {
   "cell_type": "code",
   "execution_count": 26,
   "metadata": {},
   "outputs": [
    {
     "data": {
      "text/plain": [
       "{'emp1': {'name': 'John', 'salary': 7500},\n",
       " 'emp2': {'name': 'Emma', 'salary': 8000},\n",
       " 'emp3': {'name': 'Brad', 'salary': 8500}}"
      ]
     },
     "execution_count": 26,
     "metadata": {},
     "output_type": "execute_result"
    }
   ],
   "source": [
    "sample_dict = {\n",
    "'emp1': {'name': 'John', 'salary': 7500},\n",
    "'emp2': {'name': 'Emma', 'salary': 8000},\n",
    "'emp3': {'name': 'Brad', 'salary': 500}\n",
    "}\n",
    "sample_dict[\"emp3\"][\"salary\"]=8500\n",
    "sample_dict"
   ]
  },
  {
   "cell_type": "code",
   "execution_count": 27,
   "metadata": {},
   "outputs": [
    {
     "name": "stdout",
     "output_type": "stream",
     "text": [
      "(10, 20, 43, 54, 56, 68)\n",
      "(43, 54)\n"
     ]
    }
   ],
   "source": [
    "tuple1 = (10, 20, 43, 54, 56, 68)\n",
    "print(tuple1)\n",
    "tuple2=tuple1[2:4]\n",
    "print(tuple2)"
   ]
  },
  {
   "cell_type": "code",
   "execution_count": 29,
   "metadata": {},
   "outputs": [
    {
     "name": "stdout",
     "output_type": "stream",
     "text": [
      "number of occurences of 50 in the given tuple= 3\n"
     ]
    }
   ],
   "source": [
    "tuple1 = (50, 10, 60, 70, 50,83,567,50,81)\n",
    "x=tuple1.count(50)\n",
    "print(\"number of occurences of 50 in the given tuple=\",x)"
   ]
  },
  {
   "cell_type": "code",
   "execution_count": null,
   "metadata": {},
   "outputs": [],
   "source": []
  }
 ],
 "metadata": {
  "kernelspec": {
   "display_name": "Python 3",
   "language": "python",
   "name": "python3"
  },
  "language_info": {
   "codemirror_mode": {
    "name": "ipython",
    "version": 3
   },
   "file_extension": ".py",
   "mimetype": "text/x-python",
   "name": "python",
   "nbconvert_exporter": "python",
   "pygments_lexer": "ipython3",
   "version": "3.9.0"
  },
  "orig_nbformat": 4,
  "vscode": {
   "interpreter": {
    "hash": "c446eef832ec964573dc49f36fd16bdbed40cbfbefbf557bc2dc78d9e7968689"
   }
  }
 },
 "nbformat": 4,
 "nbformat_minor": 2
}
